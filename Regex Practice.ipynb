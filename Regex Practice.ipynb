{
 "cells": [
  {
   "cell_type": "code",
   "execution_count": null,
   "metadata": {},
   "outputs": [],
   "source": [
    "# Write a pattern to match sentence endings: sentence_endings\n",
    "sentence_endings = r\"[___]\"\n",
    "\n",
    "# Split my_string on sentence endings and print the result\n",
    "print(re.____(____, ____))\n",
    "\n",
    "# Find all capitalized words in my_string and print the result\n",
    "capitalized_words = r\"[___]\\w+\"\n",
    "print(re.____(____, ____))\n",
    "\n",
    "# Split my_string on spaces and print the result\n",
    "spaces = r\"___\"\n",
    "print(re.____(____, ____))\n",
    "\n",
    "# Find all digits in my_string and print the result\n",
    "digits = r\"___\"\n",
    "print(re.____(____, ____))\n"
   ]
  }
 ],
 "metadata": {
  "kernelspec": {
   "display_name": "Python 3",
   "language": "python",
   "name": "python3"
  },
  "language_info": {
   "codemirror_mode": {
    "name": "ipython",
    "version": 3
   },
   "file_extension": ".py",
   "mimetype": "text/x-python",
   "name": "python",
   "nbconvert_exporter": "python",
   "pygments_lexer": "ipython3",
   "version": "3.7.4"
  }
 },
 "nbformat": 4,
 "nbformat_minor": 2
}
